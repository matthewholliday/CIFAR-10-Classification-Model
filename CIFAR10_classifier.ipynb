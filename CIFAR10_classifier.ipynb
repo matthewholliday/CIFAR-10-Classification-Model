{
  "nbformat": 4,
  "nbformat_minor": 0,
  "metadata": {
    "colab": {
      "name": "CIFAR10-classifier.ipynb",
      "provenance": [],
      "collapsed_sections": [],
      "authorship_tag": "ABX9TyObYjt8yVE3rj6jyvTOvBth",
      "include_colab_link": true
    },
    "kernelspec": {
      "name": "python3",
      "display_name": "Python 3"
    },
    "language_info": {
      "name": "python"
    }
  },
  "cells": [
    {
      "cell_type": "markdown",
      "metadata": {
        "id": "view-in-github",
        "colab_type": "text"
      },
      "source": [
        "<a href=\"https://colab.research.google.com/github/matthewholliday/CIFAR10-classifier/blob/main/CIFAR10_classifier.ipynb\" target=\"_parent\"><img src=\"https://colab.research.google.com/assets/colab-badge.svg\" alt=\"Open In Colab\"/></a>"
      ]
    },
    {
      "cell_type": "code",
      "execution_count": null,
      "metadata": {
        "colab": {
          "base_uri": "https://localhost:8080/"
        },
        "id": "g6Ua8ieesPRk",
        "outputId": "00aa5225-c402-4fdb-ce98-77e1cdf3ced1"
      },
      "outputs": [
        {
          "output_type": "stream",
          "name": "stdout",
          "text": [
            "Requirement already satisfied: np_utils in /usr/local/lib/python3.7/dist-packages (0.6.0)\n",
            "Requirement already satisfied: numpy>=1.0 in /usr/local/lib/python3.7/dist-packages (from np_utils) (1.19.5)\n"
          ]
        }
      ],
      "source": [
        "!pip install np_utils #Install numpy utilities."
      ]
    },
    {
      "cell_type": "code",
      "source": [
        "import numpy as np #Import numpy into this project."
      ],
      "metadata": {
        "id": "6Be2iL2dsfEX"
      },
      "execution_count": null,
      "outputs": []
    },
    {
      "cell_type": "code",
      "source": [
        "from tensorflow.keras.utils import to_categorical #Import the \"to_categorical\" utility for converting a class vector of integers into a binary classification matrix. (See: https://stackoverflow.com/questions/61307947/whats-binary-class-matrix-in-context-of-deep-learning).\n",
        "from tensorflow.keras.layers import Input, Flatten, Dense, BatchNormalization, LeakyReLU, Conv2D, Dropout, Activation #Import the layers that we are going to use.\n",
        "from tensorflow.keras.models import Model"
      ],
      "metadata": {
        "id": "t85WATphszKW"
      },
      "execution_count": null,
      "outputs": []
    },
    {
      "cell_type": "code",
      "source": [
        "from keras.datasets import cifar10 #Import the CIFAR10 dataset that is bundled with Keras. (See: https://www.cs.toronto.edu/~kriz/cifar.html)"
      ],
      "metadata": {
        "id": "4PUie6qSs3jx"
      },
      "execution_count": null,
      "outputs": []
    },
    {
      "cell_type": "code",
      "source": [
        "(x_train,y_train),(x_test,y_test) = cifar10.load_data() #Divide the CIFAR10 dataset."
      ],
      "metadata": {
        "id": "Oa2HoiL3trnr"
      },
      "execution_count": null,
      "outputs": []
    },
    {
      "cell_type": "code",
      "source": [
        "NUM_CLASSES = 10\n"
      ],
      "metadata": {
        "id": "mp0XRjNpu1ja"
      },
      "execution_count": null,
      "outputs": []
    },
    {
      "cell_type": "code",
      "source": [
        "x_train = x_train.astype('float32') / 255.0 #dividing the pixel color to normalize the data to feed into the NN\n",
        "x_test = x_test.astype('float32') / 255.0 #dividing the pixel color to normalize the data to feed into the NN"
      ],
      "metadata": {
        "id": "H3hYfMUpu_RG"
      },
      "execution_count": null,
      "outputs": []
    },
    {
      "cell_type": "code",
      "source": [
        "y_train = to_categorical(y_train,NUM_CLASSES) #Converts the label to a one-hot-encoded vector\n",
        "y_test = to_categorical(y_test,NUM_CLASSES) #Converts the label to a one-hote-encoded vector"
      ],
      "metadata": {
        "id": "W1LSwZshvA4C"
      },
      "execution_count": null,
      "outputs": []
    },
    {
      "cell_type": "code",
      "source": [
        "input_layer = Input(shape=(32,32,3)) #Define the input layer to accept a 32x32 matrix of pixels multiplied with three channels (representing RGB colors). The result is a 32*32*3 tensor."
      ],
      "metadata": {
        "id": "r0ouIQLsvES2"
      },
      "execution_count": null,
      "outputs": []
    },
    {
      "cell_type": "code",
      "source": [
        "x = Conv2D(filters = 32, kernel_size = 3, strides = 1, padding = 'same')(input_layer)\n",
        "x = BatchNormalization()(x)\n",
        "x = LeakyReLU()(x)"
      ],
      "metadata": {
        "id": "drPOozi8vTcj"
      },
      "execution_count": null,
      "outputs": []
    },
    {
      "cell_type": "code",
      "source": [
        "x = Conv2D(filters = 32, kernel_size = 3, strides = 2, padding = 'same')(x)\n",
        "x = BatchNormalization()(x)\n",
        "x = LeakyReLU()(x)\n"
      ],
      "metadata": {
        "id": "mJGqADdO0ogN"
      },
      "execution_count": null,
      "outputs": []
    },
    {
      "cell_type": "code",
      "source": [
        "x = Conv2D(filters = 64, kernel_size = 3, strides = 1, padding = 'same')(x)\n",
        "x = BatchNormalization()(x)\n",
        "x = LeakyReLU()(x)"
      ],
      "metadata": {
        "id": "mkH0TpF005ic"
      },
      "execution_count": null,
      "outputs": []
    },
    {
      "cell_type": "code",
      "source": [
        "x = Conv2D(filters = 64, kernel_size = 3, strides = 2, padding = 'same')(x)\n",
        "x = BatchNormalization()(x)\n",
        "x = LeakyReLU()(x)"
      ],
      "metadata": {
        "id": "AH7wJvpxSwnh"
      },
      "execution_count": null,
      "outputs": []
    },
    {
      "cell_type": "code",
      "source": [
        "x = Flatten()(x) #Flatten the tensor to feed into a dense layer."
      ],
      "metadata": {
        "id": "XA6EBlEc1GCx"
      },
      "execution_count": null,
      "outputs": []
    },
    {
      "cell_type": "code",
      "source": [
        "x = Dense(128)(x) #Dense layer with 128 nodes.\n",
        "x = BatchNormalization()(x)\n",
        "x = LeakyReLU()(x)\n",
        "x = Dropout(rate = 0.5)(x)\n"
      ],
      "metadata": {
        "id": "xBFeEXJu2iAS"
      },
      "execution_count": null,
      "outputs": []
    },
    {
      "cell_type": "code",
      "source": [
        "x = Dense(NUM_CLASSES)(x) #Dense layer has one node for each type of image.\n",
        "output_layer = Activation('softmax')(x) #Use softmax so we can interpret the output as probability."
      ],
      "metadata": {
        "id": "Mk-8ohQOHlFc"
      },
      "execution_count": null,
      "outputs": []
    },
    {
      "cell_type": "code",
      "source": [
        "model = Model(input_layer, output_layer)"
      ],
      "metadata": {
        "id": "ZcyKmjnrIA5b"
      },
      "execution_count": null,
      "outputs": []
    },
    {
      "cell_type": "code",
      "source": [
        "model.summary()"
      ],
      "metadata": {
        "colab": {
          "base_uri": "https://localhost:8080/"
        },
        "id": "gYyqtMrmILWS",
        "outputId": "7b632bb4-9593-4e1c-8587-dced0213562d"
      },
      "execution_count": null,
      "outputs": [
        {
          "output_type": "stream",
          "name": "stdout",
          "text": [
            "Model: \"model_8\"\n",
            "_________________________________________________________________\n",
            " Layer (type)                Output Shape              Param #   \n",
            "=================================================================\n",
            " input_7 (InputLayer)        [(None, 32, 32, 3)]       0         \n",
            "                                                                 \n",
            " conv2d_24 (Conv2D)          (None, 32, 32, 32)        896       \n",
            "                                                                 \n",
            " batch_normalization_32 (Bat  (None, 32, 32, 32)       128       \n",
            " chNormalization)                                                \n",
            "                                                                 \n",
            " leaky_re_lu_31 (LeakyReLU)  (None, 32, 32, 32)        0         \n",
            "                                                                 \n",
            " conv2d_25 (Conv2D)          (None, 16, 16, 32)        9248      \n",
            "                                                                 \n",
            " batch_normalization_33 (Bat  (None, 16, 16, 32)       128       \n",
            " chNormalization)                                                \n",
            "                                                                 \n",
            " leaky_re_lu_32 (LeakyReLU)  (None, 16, 16, 32)        0         \n",
            "                                                                 \n",
            " conv2d_26 (Conv2D)          (None, 16, 16, 64)        18496     \n",
            "                                                                 \n",
            " batch_normalization_34 (Bat  (None, 16, 16, 64)       256       \n",
            " chNormalization)                                                \n",
            "                                                                 \n",
            " leaky_re_lu_33 (LeakyReLU)  (None, 16, 16, 64)        0         \n",
            "                                                                 \n",
            " conv2d_27 (Conv2D)          (None, 8, 8, 64)          36928     \n",
            "                                                                 \n",
            " batch_normalization_35 (Bat  (None, 8, 8, 64)         256       \n",
            " chNormalization)                                                \n",
            "                                                                 \n",
            " leaky_re_lu_34 (LeakyReLU)  (None, 8, 8, 64)          0         \n",
            "                                                                 \n",
            " flatten_7 (Flatten)         (None, 4096)              0         \n",
            "                                                                 \n",
            " dense_17 (Dense)            (None, 128)               524416    \n",
            "                                                                 \n",
            " batch_normalization_36 (Bat  (None, 128)              512       \n",
            " chNormalization)                                                \n",
            "                                                                 \n",
            " leaky_re_lu_35 (LeakyReLU)  (None, 128)               0         \n",
            "                                                                 \n",
            " dropout_7 (Dropout)         (None, 128)               0         \n",
            "                                                                 \n",
            " dense_18 (Dense)            (None, 10)                1290      \n",
            "                                                                 \n",
            " activation_7 (Activation)   (None, 10)                0         \n",
            "                                                                 \n",
            "=================================================================\n",
            "Total params: 592,554\n",
            "Trainable params: 591,914\n",
            "Non-trainable params: 640\n",
            "_________________________________________________________________\n"
          ]
        }
      ]
    },
    {
      "cell_type": "code",
      "source": [
        "from tensorflow.keras.optimizers import Adam\n",
        "opt = Adam(learning_rate=0.0005)\n",
        "model.compile(loss='categorical_crossentropy',optimizer=opt,metrics=['accuracy'])"
      ],
      "metadata": {
        "id": "k7p0CIFHIPxJ"
      },
      "execution_count": null,
      "outputs": []
    },
    {
      "cell_type": "code",
      "source": [
        "model.fit(x_train, y_train, batch_size = 1000, epochs=10, shuffle=True)"
      ],
      "metadata": {
        "colab": {
          "base_uri": "https://localhost:8080/"
        },
        "id": "a92XHjshKosw",
        "outputId": "87ece1f4-8254-4ef4-a8ec-f9f68f66020f"
      },
      "execution_count": null,
      "outputs": [
        {
          "output_type": "stream",
          "name": "stdout",
          "text": [
            "Epoch 1/10\n",
            "50/50 [==============================] - 142s 3s/step - loss: 1.0341 - accuracy: 0.6386\n",
            "Epoch 2/10\n",
            "50/50 [==============================] - 139s 3s/step - loss: 0.9793 - accuracy: 0.6599\n",
            "Epoch 3/10\n",
            "50/50 [==============================] - 146s 3s/step - loss: 0.9493 - accuracy: 0.6727\n",
            "Epoch 4/10\n",
            "50/50 [==============================] - 140s 3s/step - loss: 0.9310 - accuracy: 0.6757\n",
            "Epoch 5/10\n",
            "50/50 [==============================] - 139s 3s/step - loss: 0.9121 - accuracy: 0.6825\n",
            "Epoch 6/10\n",
            "50/50 [==============================] - 141s 3s/step - loss: 0.8939 - accuracy: 0.6907\n",
            "Epoch 7/10\n",
            "50/50 [==============================] - 141s 3s/step - loss: 0.8771 - accuracy: 0.6983\n",
            "Epoch 8/10\n",
            "50/50 [==============================] - 142s 3s/step - loss: 0.8589 - accuracy: 0.7017\n",
            "Epoch 9/10\n",
            "50/50 [==============================] - 142s 3s/step - loss: 0.8431 - accuracy: 0.7085\n",
            "Epoch 10/10\n",
            "50/50 [==============================] - 141s 3s/step - loss: 0.8302 - accuracy: 0.7109\n"
          ]
        },
        {
          "output_type": "execute_result",
          "data": {
            "text/plain": [
              "<keras.callbacks.History at 0x7f82214fda50>"
            ]
          },
          "metadata": {},
          "execution_count": 135
        }
      ]
    },
    {
      "cell_type": "code",
      "source": [
        ""
      ],
      "metadata": {
        "id": "tpS91_w6Kv7z"
      },
      "execution_count": null,
      "outputs": []
    }
  ]
}